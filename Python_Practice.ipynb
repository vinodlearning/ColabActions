{
  "nbformat": 4,
  "nbformat_minor": 0,
  "metadata": {
    "colab": {
      "provenance": [],
      "authorship_tag": "ABX9TyOZb/6mWKVwBOK7kcGm6Mra",
      "include_colab_link": true
    },
    "kernelspec": {
      "name": "python3",
      "display_name": "Python 3"
    },
    "language_info": {
      "name": "python"
    }
  },
  "cells": [
    {
      "cell_type": "markdown",
      "metadata": {
        "id": "view-in-github",
        "colab_type": "text"
      },
      "source": [
        "<a href=\"https://colab.research.google.com/github/vinodlearning/ColabActions/blob/main/Python_Practice.ipynb\" target=\"_parent\"><img src=\"https://colab.research.google.com/assets/colab-badge.svg\" alt=\"Open In Colab\"/></a>"
      ]
    },
    {
      "cell_type": "code",
      "execution_count": null,
      "metadata": {
        "id": "iTRXHZY6gsVw"
      },
      "outputs": [],
      "source": []
    },
    {
      "cell_type": "markdown",
      "source": [
        "This is my practice sheet for Python"
      ],
      "metadata": {
        "id": "uXYrYIIIg6h8"
      }
    },
    {
      "cell_type": "code",
      "source": [
        "age=20\n",
        "age=30\n",
        "price =19.95\n",
        "firts_name='Mosh'\n",
        "is_online=True\n",
        "print(age);"
      ],
      "metadata": {
        "colab": {
          "base_uri": "https://localhost:8080/",
          "height": 0
        },
        "id": "fXqiCZD_g9fk",
        "outputId": "2aa00ede-e279-4ebb-f847-db5cdc9621e5"
      },
      "execution_count": 5,
      "outputs": [
        {
          "output_type": "stream",
          "name": "stdout",
          "text": [
            "30\n"
          ]
        }
      ]
    },
    {
      "cell_type": "code",
      "source": [
        "name=input('what is your name? ')\n",
        "\n",
        "print(\"Hello \"+name)#string contactination"
      ],
      "metadata": {
        "colab": {
          "base_uri": "https://localhost:8080/",
          "height": 0
        },
        "id": "vCtWWZChhBnW",
        "outputId": "d0217aa3-70bf-4ecb-a3cc-95e4e8c75a1d"
      },
      "execution_count": 7,
      "outputs": [
        {
          "output_type": "stream",
          "name": "stdout",
          "text": [
            "what is your name? Vinod Gummadi\n",
            "Hello Vinod Gummadi\n"
          ]
        }
      ]
    },
    {
      "cell_type": "code",
      "source": [
        "##Convesrions\n",
        "\n",
        "birth_year=input(\"Enter your birth year: \")\n",
        "\n",
        "age=2020-int(birth_year)## converting string value to int value\n",
        "print(age)"
      ],
      "metadata": {
        "colab": {
          "base_uri": "https://localhost:8080/",
          "height": 0
        },
        "id": "hQS2BMIxhtj7",
        "outputId": "e48feb84-648a-4072-adaf-64c846fb8f24"
      },
      "execution_count": 9,
      "outputs": [
        {
          "output_type": "stream",
          "name": "stdout",
          "text": [
            "Enter your birth year: 1987\n",
            "33\n"
          ]
        }
      ]
    },
    {
      "cell_type": "code",
      "source": [
        "## Calculate propgram\n",
        "\n",
        "input1=float(input(\"Enter First number? \"));\n",
        "input2=float(input(\"Enter Second number? \"))\n",
        "sum=input1+input2\n",
        "print(\"Sum of two numbers -->:\"+ str(sum))"
      ],
      "metadata": {
        "colab": {
          "base_uri": "https://localhost:8080/",
          "height": 0
        },
        "id": "oUHTOtjCiP30",
        "outputId": "3a227951-e32e-4743-982d-38784889afca"
      },
      "execution_count": 19,
      "outputs": [
        {
          "output_type": "stream",
          "name": "stdout",
          "text": [
            "Enter First number? 203.90\n",
            "Enter Second number? 2378\n",
            "Sum of two numbers -->:2581.9\n"
          ]
        }
      ]
    },
    {
      "cell_type": "code",
      "source": [
        "## Strings\n",
        "\n",
        "course =\"Python for Beginners\"\n",
        "print(course.upper())\n",
        "print(course)\n",
        "print(course.find(\"N\"))#retunr -1, if not found the value (return index)\n",
        "print(course.replace(\"f\",\"F\"))\n",
        "print(course)\n",
        "print(\"For\" in course)## python is casesensitive\n"
      ],
      "metadata": {
        "colab": {
          "base_uri": "https://localhost:8080/",
          "height": 0
        },
        "id": "gWyLkW75i_zw",
        "outputId": "bab7b53a-d4df-4387-c5d9-e4234fb59c0a"
      },
      "execution_count": 28,
      "outputs": [
        {
          "output_type": "stream",
          "name": "stdout",
          "text": [
            "PYTHON FOR BEGINNERS\n",
            "Python for Beginners\n",
            "-1\n",
            "Python For Beginners\n",
            "Python for Beginners\n",
            "False\n"
          ]
        }
      ]
    },
    {
      "cell_type": "code",
      "source": [
        "## Arthametic operations\n",
        "print (10+3)\n",
        "print(10-9)\n",
        "print(90*90)\n",
        "print(10/3)#return extact quotient --3.3333333333333335\n",
        "print(10//3)# round value--3\n",
        "print(10%3)# reminder\n",
        "print(10 ** 3)# 1p power of 3 like 10^3\n",
        "x=10\n",
        "x=x+3\n",
        "print(x)\n",
        "x+=3# agumented assignmnet arthmetica operator x*=, x-=\n",
        "print(x)\n"
      ],
      "metadata": {
        "colab": {
          "base_uri": "https://localhost:8080/",
          "height": 0
        },
        "id": "vY4Vi1_8pFxC",
        "outputId": "e705bf08-ccfd-47d8-a0be-d3ee4dc6a6b2"
      },
      "execution_count": 35,
      "outputs": [
        {
          "output_type": "stream",
          "name": "stdout",
          "text": [
            "13\n",
            "1\n",
            "8100\n",
            "3.3333333333333335\n",
            "3\n",
            "1\n",
            "1000\n",
            "13\n",
            "16\n"
          ]
        }
      ]
    },
    {
      "cell_type": "code",
      "source": [
        "## Operator Precedence\n",
        "## * and / have priority\n",
        "## next + and -\n",
        "x= 10+10/3+ 3*2\n",
        "print(x)\n"
      ],
      "metadata": {
        "colab": {
          "base_uri": "https://localhost:8080/",
          "height": 0
        },
        "id": "zblYAn7fqlYA",
        "outputId": "f6770a5c-f48a-42c0-e163-2f109f0fa4bd"
      },
      "execution_count": 36,
      "outputs": [
        {
          "output_type": "stream",
          "name": "stdout",
          "text": [
            "19.333333333333336\n"
          ]
        }
      ]
    },
    {
      "cell_type": "code",
      "source": [
        "## Comparison Operators\n",
        "## > < >= <= == !=\n",
        "x = 3!=2\n",
        "print(x)"
      ],
      "metadata": {
        "colab": {
          "base_uri": "https://localhost:8080/",
          "height": 0
        },
        "id": "jRqjdoCXsger",
        "outputId": "8206db2e-8610-48e6-af37-f5324867eeee"
      },
      "execution_count": 39,
      "outputs": [
        {
          "output_type": "stream",
          "name": "stdout",
          "text": [
            "True\n"
          ]
        }
      ]
    },
    {
      "cell_type": "code",
      "source": [
        "## Logical Operators\n",
        "## and or not --> operators\n",
        "price =25\n",
        "print(price>10 and price<20)\n",
        "print(price>10 or price<20)\n",
        "print(price>30)\n",
        "print(not price>30)"
      ],
      "metadata": {
        "colab": {
          "base_uri": "https://localhost:8080/",
          "height": 0
        },
        "id": "Hwp_S6Dms7ud",
        "outputId": "9fc6656e-43d0-4115-99b7-70eecce7ee47"
      },
      "execution_count": 48,
      "outputs": [
        {
          "output_type": "stream",
          "name": "stdout",
          "text": [
            "False\n",
            "True\n",
            "False\n",
            "True\n"
          ]
        }
      ]
    },
    {
      "cell_type": "code",
      "source": [
        "## If statements\n",
        "\n",
        "temperature =5\n",
        "if temperature >30:\n",
        "  print(\"It's a hot day\")\n",
        "  print(\"Drunk plenty of water\")\n",
        "elif temperature>20:\n",
        "  print(\"It's a nice day\")\n",
        "elif temperature>10:\n",
        "  print(\"It's a bit cold\");\n",
        "else:\n",
        "        print(\"done\")\n",
        "\n",
        "\n"
      ],
      "metadata": {
        "colab": {
          "base_uri": "https://localhost:8080/",
          "height": 0
        },
        "id": "vtMOuocAtUqy",
        "outputId": "00bec02e-b9b9-4ae3-db4d-277b488b7e81"
      },
      "execution_count": 58,
      "outputs": [
        {
          "output_type": "stream",
          "name": "stdout",
          "text": [
            "done\n"
          ]
        }
      ]
    },
    {
      "cell_type": "code",
      "source": [
        "## Excercise\n",
        "\n",
        "user_input= float(input(\"Weight:\"))\n",
        "user_conv=input(\"(K)g or (L)bs: \")\n",
        "if user_conv.upper()==\"L\":\n",
        "  result=user_input/0.45\n",
        "  print(\"Weight in Lbs: \"+str(result))\n",
        "else:\n",
        "  result=user_input *  0.45\n",
        "  print(\"Weight in Kgs: \"+str(result))\n"
      ],
      "metadata": {
        "colab": {
          "base_uri": "https://localhost:8080/",
          "height": 0
        },
        "id": "03I9ukFxt4A1",
        "outputId": "8262ef41-f480-48e3-a1aa-b3d1c10616fe"
      },
      "execution_count": 60,
      "outputs": [
        {
          "output_type": "stream",
          "name": "stdout",
          "text": [
            "Weight:76\n",
            "(K)g or (L)bs: L\n",
            "Weight in Lbs: 168.88888888888889\n"
          ]
        }
      ]
    },
    {
      "cell_type": "code",
      "source": [
        "## While Loops\n",
        "i=1\n",
        "while i<=5:\n",
        "  print(i * 'vinod')\n",
        "  i+=1;\n"
      ],
      "metadata": {
        "colab": {
          "base_uri": "https://localhost:8080/",
          "height": 0
        },
        "id": "F1lHI3ZOw_UQ",
        "outputId": "02f9c90a-c7a3-498b-c35a-d07a0b0d85aa"
      },
      "execution_count": 64,
      "outputs": [
        {
          "output_type": "stream",
          "name": "stdout",
          "text": [
            "vinod\n",
            "vinodvinod\n",
            "vinodvinodvinod\n",
            "vinodvinodvinodvinod\n",
            "vinodvinodvinodvinodvinod\n"
          ]
        }
      ]
    },
    {
      "cell_type": "code",
      "source": [
        "##List\n",
        "\n",
        "names = [\"John\", \"Bob\",\"Mosh\",\"Sam\",\"Mary\"]\n",
        "print(names)\n",
        "print(names[3])#Sam\n",
        "print(names[-1])# if you give -1 negitive index values then\n",
        "## python will give values from last like -1,-2,-3,-4---0 1 2 3 4\n",
        "\n",
        "names[0]='Escobar'# changing the list values based on index\n",
        "print(names)\n",
        "\n",
        "print(names[0:3])# print the elements between (first and last) two indexes but exclude the last value\n",
        "#we can say last index-1\n",
        "\n",
        "print(names)# list is not modified bcz we retried the 3 elements oly\n",
        "\n",
        "print(\"### List methods####\")\n",
        "### List methods\n",
        "numbers = [1,2,3,4,5,6,7,8,9]\n",
        "print(numbers)\n",
        "numbers.append(10)## insert at last location\n",
        "print(numbers)\n",
        "numbers.insert(10,-1)## insert at specific location\n",
        "\n",
        "print(numbers)\n",
        "\n",
        "#numbers.clear()#delete the all elements from list but not list\n",
        "\n",
        "print(numbers)\n",
        "\n",
        "print(-1 in numbers)# checking the element exist or not, True, if exist\n",
        "\n",
        "\n",
        "\n"
      ],
      "metadata": {
        "colab": {
          "base_uri": "https://localhost:8080/"
        },
        "id": "zlxff28cLt1A",
        "outputId": "e01acd14-3fe8-4d78-806a-43b08f921a83"
      },
      "execution_count": 80,
      "outputs": [
        {
          "output_type": "stream",
          "name": "stdout",
          "text": [
            "['John', 'Bob', 'Mosh', 'Sam', 'Mary']\n",
            "Sam\n",
            "Mary\n",
            "['Escobar', 'Bob', 'Mosh', 'Sam', 'Mary']\n",
            "['Escobar', 'Bob', 'Mosh']\n",
            "['Escobar', 'Bob', 'Mosh', 'Sam', 'Mary']\n",
            "### List methods####\n",
            "[1, 2, 3, 4, 5, 6, 7, 8, 9]\n",
            "[1, 2, 3, 4, 5, 6, 7, 8, 9, 10]\n",
            "[1, 2, 3, 4, 5, 6, 7, 8, 9, 10, -1]\n",
            "[1, 2, 3, 4, 5, 6, 7, 8, 9, 10, -1]\n",
            "True\n"
          ]
        }
      ]
    },
    {
      "cell_type": "code",
      "source": [],
      "metadata": {
        "id": "SencWMCuN_-5"
      },
      "execution_count": null,
      "outputs": []
    }
  ]
}