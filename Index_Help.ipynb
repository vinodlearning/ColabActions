{
  "nbformat": 4,
  "nbformat_minor": 0,
  "metadata": {
    "colab": {
      "provenance": [],
      "authorship_tag": "ABX9TyN8tumFcYBKDbrHmP/hYnWb",
      "include_colab_link": true
    },
    "kernelspec": {
      "name": "python3",
      "display_name": "Python 3"
    },
    "language_info": {
      "name": "python"
    }
  },
  "cells": [
    {
      "cell_type": "markdown",
      "metadata": {
        "id": "view-in-github",
        "colab_type": "text"
      },
      "source": [
        "<a href=\"https://colab.research.google.com/github/vinodlearning/ColabActions/blob/main/Index_Help.ipynb\" target=\"_parent\"><img src=\"https://colab.research.google.com/assets/colab-badge.svg\" alt=\"Open In Colab\"/></a>"
      ]
    },
    {
      "cell_type": "code",
      "execution_count": null,
      "metadata": {
        "id": "UL2yqHkrFvOP"
      },
      "outputs": [],
      "source": []
    },
    {
      "cell_type": "markdown",
      "source": [
        "These all realted to tutorials for Python and AI and ML"
      ],
      "metadata": {
        "id": "I8KUG5btFxAH"
      }
    },
    {
      "cell_type": "code",
      "source": [],
      "metadata": {
        "id": "b8RN4cNRF1p-"
      },
      "execution_count": null,
      "outputs": []
    },
    {
      "cell_type": "markdown",
      "source": [
        "https://www.youtube.com/watch?v=kqtD5dpn9C8\n",
        "\n",
        "\n",
        "\n",
        "this is one hour course on python"
      ],
      "metadata": {
        "id": "FbF81RW_F3Kh"
      }
    }
  ]
}